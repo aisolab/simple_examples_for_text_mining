{
 "cells": [
  {
   "cell_type": "markdown",
   "metadata": {},
   "source": [
    "# Simple NLP for Korean\n",
    "간단한 Tokenizing, Pos-tagging을 해보고 실제 예제로 konlpy의 예제 corpus로 DocumentTermMatrix를 만들어봅니다. 이 때, DocumentTermMatrix의 Term으로는 초록에 등장한 명사(NN), 고유명사(NNP) 중 많이 출현한 100개의 단어로 Term을 만들고 그 것을 토대로 DocumentTermMatrix를 만들어봅니다.  \n",
    "  \n",
    "* _nltk와 sklearn의 sub-module인 feature-extraction.text를 활용합니다._\n",
    "* _pos-tagger로 konlpy에서 kkma 형태소 분석기를 활용합니다._\n",
    "* 실제로 활용하셔도 좋으나 조금 더 코드를 다듬어서 사용하시는 것을 추천드립니다.\n",
    "* nltk : http://www.nltk.org/book/\n",
    "* konlpy : http://konlpy-ko.readthedocs.io/ko/v0.4.3/  \n",
    "\n",
    "만든이 : 김보섭"
   ]
  },
  {
   "cell_type": "markdown",
   "metadata": {},
   "source": [
    "## Pos tagging for Korea"
   ]
  },
  {
   "cell_type": "code",
   "execution_count": 1,
   "metadata": {
    "collapsed": false
   },
   "outputs": [],
   "source": [
    "from konlpy.tag import Kkma # 꼬꼬마 형태소분석기\n",
    "import re\n",
    "kkma = Kkma()"
   ]
  },
  {
   "cell_type": "markdown",
   "metadata": {},
   "source": [
    "### Tokenizing & Pos-tagging"
   ]
  },
  {
   "cell_type": "code",
   "execution_count": 2,
   "metadata": {
    "collapsed": false,
    "scrolled": true
   },
   "outputs": [
    {
     "name": "stdout",
     "output_type": "stream",
     "text": [
      "<class 'str'>\n"
     ]
    },
    {
     "data": {
      "text/plain": [
       "[('비정형', 'NNG'),\n",
       " ('데이터', 'NNG'),\n",
       " ('분석', 'NNG'),\n",
       " ('수업', 'NNG'),\n",
       " ('에서', 'JKM'),\n",
       " ('는', 'JX'),\n",
       " ('정말', 'MAG'),\n",
       " ('많', 'VA'),\n",
       " ('은', 'ETD'),\n",
       " ('것', 'NNB'),\n",
       " ('을', 'JKO'),\n",
       " ('배우', 'VV'),\n",
       " ('ㅂ니다', 'EFN'),\n",
       " ('.', 'SF')]"
      ]
     },
     "execution_count": 2,
     "metadata": {},
     "output_type": "execute_result"
    }
   ],
   "source": [
    "# string에 바로 pos tagger 적용\n",
    "s1 = '비정형데이터분석 수업에서는 정말 많은 것을 배웁니다.'\n",
    "print(type(s1))\n",
    "kkma.pos(s1)"
   ]
  },
  {
   "cell_type": "code",
   "execution_count": 3,
   "metadata": {
    "collapsed": false
   },
   "outputs": [
    {
     "data": {
      "text/plain": [
       "[[('비정형', 'NNG'), ('데이터', 'NNG'), ('분석', 'NNG')],\n",
       " [('수업', 'NNG'), ('에서', 'JKM'), ('는', 'JX')],\n",
       " [('정말', 'MAG')],\n",
       " [('많', 'VA'), ('은', 'ETD')],\n",
       " [('것', 'NNB'), ('을', 'JKO')],\n",
       " [('배우', 'VV'), ('ㅂ니다', 'EFN'), ('.', 'SF')]]"
      ]
     },
     "execution_count": 3,
     "metadata": {},
     "output_type": "execute_result"
    }
   ],
   "source": [
    "# Tokenizing 후 pos-tagger 적용\n",
    "[kkma.pos(morph) for morph in s1.split(' ')]"
   ]
  },
  {
   "cell_type": "code",
   "execution_count": 4,
   "metadata": {
    "collapsed": false
   },
   "outputs": [
    {
     "data": {
      "text/plain": [
       "[('비정형', 'NNG'),\n",
       " ('데이터', 'NNG'),\n",
       " ('분석', 'NNG'),\n",
       " ('수업', 'NNG'),\n",
       " ('에서', 'JKM'),\n",
       " ('는', 'JX'),\n",
       " ('정말', 'MAG'),\n",
       " ('많', 'VA'),\n",
       " ('은', 'ETD'),\n",
       " ('것', 'NNB'),\n",
       " ('을', 'JKO'),\n",
       " ('배우', 'VV'),\n",
       " ('ㅂ니다', 'EFN'),\n",
       " ('.', 'SF')]"
      ]
     },
     "execution_count": 4,
     "metadata": {},
     "output_type": "execute_result"
    }
   ],
   "source": [
    "# 위 결과물에서 명사계열만 추출\n",
    "tmp = [kkma.pos(morph) for morph in s1.split(' ')]\n",
    "tmp = sum(tmp, [])\n",
    "tmp"
   ]
  },
  {
   "cell_type": "code",
   "execution_count": 5,
   "metadata": {
    "collapsed": false
   },
   "outputs": [
    {
     "data": {
      "text/plain": [
       "[('비정형', 'NNG'), ('데이터', 'NNG'), ('분석', 'NNG'), ('수업', 'NNG'), ('것', 'NNB')]"
      ]
     },
     "execution_count": 5,
     "metadata": {},
     "output_type": "execute_result"
    }
   ],
   "source": [
    "tmp = [morph for morph in tmp if morph[1].find('NN') == 0]\n",
    "tmp"
   ]
  },
  {
   "cell_type": "markdown",
   "metadata": {},
   "source": [
    "### example\n",
    "본 예제에서는 konlpy에서 제공하는 \"한국법률말뭉치\"를 이용하여 DocumentTermMatrix를 만들어본다. 이 예제에서는 356줄의 법률문서가 제공되며 이때 각 줄을 문서로보고 DocumentTermMatrix를 만든다. Term은 명사계열(NN?)로만 한정하며 Term-frequency 기준 상위 100개로 DocumentTermMatrix를 구성한다."
   ]
  },
  {
   "cell_type": "code",
   "execution_count": 6,
   "metadata": {
    "collapsed": false
   },
   "outputs": [],
   "source": [
    "from konlpy.corpus import kolaw\n",
    "fids = kolaw.fileids()\n",
    "fobj = kolaw.open(fids[0])"
   ]
  },
  {
   "cell_type": "code",
   "execution_count": 7,
   "metadata": {
    "collapsed": false
   },
   "outputs": [
    {
     "name": "stdout",
     "output_type": "stream",
     "text": [
      "356 ['대한민국헌법\\n', '\\n', '유구한 역사와 전통에 빛나는 우리 대한국민은 3·1운동으로 건립된 대한민국임시정부의 법통과 불의에 항거한 4·19민주이념을 계승하고, 조국의 민주개혁과 평화적 통일의 사명에 입각하여 정의·인도와 동포애로써 민족의 단결을 공고히 하고, 모든 사회적 폐습과 불의를 타파하며, 자율과 조화를 바탕으로 자유민주적 기본질서를 더욱 확고히 하여 정치·경제·사회·문화의 모든 영역에 있어서 각인의 기회를 균등히 하고, 능력을 최고도로 발휘하게 하며, 자유와 권리에 따르는 책임과 의무를 완수하게 하여, 안으로는 국민생활의 균등한 향상을 기하고 밖으로는 항구적인 세계평화와 인류공영에 이바지함으로써 우리들과 우리들의 자손의 안전과 자유와 행복을 영원히 확보할 것을 다짐하면서 1948년 7월 12일에 제정되고 8차에 걸쳐 개정된 헌법을 이제 국회의 의결을 거쳐 국민투표에 의하여 개정한다.\\n', '\\n', '       제1장 총강\\n', '  제1조 ① 대한민국은 민주공화국이다.\\n']\n"
     ]
    }
   ],
   "source": [
    "text = fobj.readlines()\n",
    "print(len(text), text[0:6])"
   ]
  },
  {
   "cell_type": "code",
   "execution_count": 8,
   "metadata": {
    "collapsed": false
   },
   "outputs": [
    {
     "data": {
      "text/plain": [
       "['대한민국헌법',\n",
       " '유구한 역사와 전통에 빛나는 우리 대한국민은 3·1운동으로 건립된 대한민국임시정부의 법통과 불의에 항거한 4·19민주이념을 계승하고, 조국의 민주개혁과 평화적 통일의 사명에 입각하여 정의·인도와 동포애로써 민족의 단결을 공고히 하고, 모든 사회적 폐습과 불의를 타파하며, 자율과 조화를 바탕으로 자유민주적 기본질서를 더욱 확고히 하여 정치·경제·사회·문화의 모든 영역에 있어서 각인의 기회를 균등히 하고, 능력을 최고도로 발휘하게 하며, 자유와 권리에 따르는 책임과 의무를 완수하게 하여, 안으로는 국민생활의 균등한 향상을 기하고 밖으로는 항구적인 세계평화와 인류공영에 이바지함으로써 우리들과 우리들의 자손의 안전과 자유와 행복을 영원히 확보할 것을 다짐하면서 1948년 7월 12일에 제정되고 8차에 걸쳐 개정된 헌법을 이제 국회의 의결을 거쳐 국민투표에 의하여 개정한다.',\n",
       " '제1장 총강',\n",
       " '제1조 ① 대한민국은 민주공화국이다.',\n",
       " '②대한민국의 주권은 국민에게 있고, 모든 권력은 국민으로부터 나온다.',\n",
       " '제2조 ① 대한민국의 국민이 되는 요건은 법률로 정한다.']"
      ]
     },
     "execution_count": 8,
     "metadata": {},
     "output_type": "execute_result"
    }
   ],
   "source": [
    "# 위의 문서를 살펴본 결과 전처리가 필요함을 알 수 있음\n",
    "# 위의 문서를 살펴본 결과 줄바꿈도 리스트의 원소로 들어가있음을 볼 수 있음 줄바꿈을 제거해야함\n",
    "text = list(map(lambda x : re.sub('\\\\s+',' ', x), text))\n",
    "text = list(map(lambda x : x.strip(), text))\n",
    "text = [line for line in text if line != '']\n",
    "text[0:6]"
   ]
  },
  {
   "cell_type": "code",
   "execution_count": 9,
   "metadata": {
    "collapsed": false
   },
   "outputs": [],
   "source": [
    "tagged_text = [kkma.pos(line) for line in text]"
   ]
  },
  {
   "cell_type": "code",
   "execution_count": 10,
   "metadata": {
    "collapsed": false
   },
   "outputs": [
    {
     "data": {
      "text/plain": [
       "['대한민국 헌법',\n",
       " '유구 역사 전통 우리 국민 운동 건립 대한민국 임시 정부 법통 불의 항거 민주 이념 계승 조국 민주 개혁 평화적 통일 사명 입각 정의 인도 동포애 민족 단결 사회적 폐습 불의 타파 자율 조화 바탕 자유 민주적 기본 질서 정치 경제 사회 문화 영역 각인 기회 균등 히 능력 최고 도로 발휘 자유 권리 책임 의무 완수 안 국민 생활 균등 향상 밖 항구적 세계 평화 인류 공영 이바지 자손 안전 자유 행복 확보 것 다짐 년 월 일 제정 차 개정 헌법 이제 국회 의결 국민 투표 개정',\n",
       " '장 총 강',\n",
       " '대한민국 민주 공화국',\n",
       " '대한민국 주권 국민 권력 국민',\n",
       " '대한민국 국민 요건 법률']"
      ]
     },
     "execution_count": 10,
     "metadata": {},
     "output_type": "execute_result"
    }
   ],
   "source": [
    "tmp_text = []\n",
    "for line in tagged_text:\n",
    "    if len(line) >= 2:\n",
    "        tmp_text.append([morph[0] for morph in line if morph[1].find('NN') >=0 ])\n",
    "final_text = [' '.join(tmp) for tmp in tmp_text]\n",
    "final_text[0:6]"
   ]
  },
  {
   "cell_type": "code",
   "execution_count": 11,
   "metadata": {
    "collapsed": false
   },
   "outputs": [
    {
     "name": "stdout",
     "output_type": "stream",
     "text": [
      "['법률', '대통령', '국가', '헌법', '국민', '국회'] 100\n"
     ]
    }
   ],
   "source": [
    "# Term을 설정 (tf기준 상위 100개 단어 추출)\n",
    "# 한글자단어제거\n",
    "from collections import Counter\n",
    "word_list = sum(tmp_text, [])\n",
    "word_list = [tmp for tmp in word_list if len(tmp) != 1]\n",
    "word_count = Counter(word_list)\n",
    "Vocabulary = word_count.most_common(100)\n",
    "Vocabulary = [tmp[0] for tmp in Vocabulary]\n",
    "print(Vocabulary[0:6], len(Vocabulary))"
   ]
  },
  {
   "cell_type": "code",
   "execution_count": 12,
   "metadata": {
    "collapsed": false
   },
   "outputs": [],
   "source": [
    "# DocumentTermMatrix 생성\n",
    "from sklearn.feature_extraction.text import CountVectorizer\n",
    "dtm = CountVectorizer(vocabulary=Vocabulary)"
   ]
  },
  {
   "cell_type": "code",
   "execution_count": 13,
   "metadata": {
    "collapsed": false
   },
   "outputs": [
    {
     "data": {
      "text/plain": [
       "100"
      ]
     },
     "execution_count": 13,
     "metadata": {},
     "output_type": "execute_result"
    }
   ],
   "source": [
    "dtm.fit(final_text)\n",
    "dtm.vocabulary_ # DocumentTermMatrix의 Term\n",
    "len(dtm.vocabulary_) # Term의 개수"
   ]
  },
  {
   "cell_type": "code",
   "execution_count": 14,
   "metadata": {
    "collapsed": true
   },
   "outputs": [],
   "source": [
    "my_dtm = dtm.transform(final_text).toarray()"
   ]
  },
  {
   "cell_type": "code",
   "execution_count": 15,
   "metadata": {
    "collapsed": false
   },
   "outputs": [
    {
     "data": {
      "text/plain": [
       "(344, 100)"
      ]
     },
     "execution_count": 15,
     "metadata": {},
     "output_type": "execute_result"
    }
   ],
   "source": [
    "my_dtm.shape"
   ]
  }
 ],
 "metadata": {
  "kernelspec": {
   "display_name": "Python 3",
   "language": "python",
   "name": "python3"
  },
  "language_info": {
   "codemirror_mode": {
    "name": "ipython",
    "version": 3
   },
   "file_extension": ".py",
   "mimetype": "text/x-python",
   "name": "python",
   "nbconvert_exporter": "python",
   "pygments_lexer": "ipython3",
   "version": "3.6.0"
  }
 },
 "nbformat": 4,
 "nbformat_minor": 2
}
